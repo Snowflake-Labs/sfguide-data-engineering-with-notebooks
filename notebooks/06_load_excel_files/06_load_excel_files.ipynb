{
 "cells": [
  {
   "cell_type": "markdown",
   "id": "c1970118-7b46-4dcf-acd2-cd8836d14408",
   "metadata": {
    "collapsed": false,
    "name": "md_overview"
   },
   "source": [
    "# 06 Load Excel Files\n",
    "\n",
    "* Author: Jeremiah Hansen\n",
    "* Last Updated: 10/25/2024\n",
    "\n",
    "This notebook will load data into the `LOCATION` and `ORDER_DETAIL` tables from Excel files.\n",
    "\n",
    "This currently does not use Snowpark File Access as it doesn't yet work in Notebooks. So for now we copy the file locally first."
   ]
  },
  {
   "cell_type": "code",
   "execution_count": null,
   "id": "8873bc96-287b-4f47-a929-013c1487a088",
   "metadata": {
    "language": "sql",
    "name": "sql_get_context"
   },
   "outputs": [],
   "source": [
    "-- This won't be needed when we can pass variables to Notebooks!\n",
    "SELECT current_database() AS DATABASE_NAME, current_schema() AS SCHEMA_NAME"
   ]
  },
  {
   "cell_type": "code",
   "execution_count": null,
   "id": "3775908f-ca36-4846-8f38-5adca39217f2",
   "metadata": {
    "collapsed": false,
    "language": "python",
    "name": "py_imports"
   },
   "outputs": [],
   "source": [
    "# Import python packages\n",
    "import logging\n",
    "import pandas as pd\n",
    "\n",
    "logger = logging.getLogger(\"demo_logger\")\n",
    "\n",
    "# Get the target database and schema using the results from the SQL cell above\n",
    "# This won't be needed when we can pass variables to Notebooks!\n",
    "current_context_df = cells.sql_get_context.to_pandas()\n",
    "database_name = current_context_df.iloc[0,0]\n",
    "schema_name = current_context_df.iloc[0,1]\n",
    "\n",
    "# We can also use Snowpark for our analyses!\n",
    "from snowflake.snowpark.context import get_active_session\n",
    "session = get_active_session()\n",
    "#session.use_schema(f\"{database_name}.{schema_name}\")\n",
    "\n",
    "logger.info(\"06_load_excel_files start\")"
   ]
  },
  {
   "cell_type": "code",
   "execution_count": null,
   "id": "413fad43-3fec-4379-b34b-7e1728599a7a",
   "metadata": {
    "collapsed": false,
    "language": "sql",
    "name": "sql_get_spreadsheets"
   },
   "outputs": [],
   "source": [
    "-- Temporary solution to load in the metadata, this should be replaced with a directy query to a directory table (or a metadata table)\n",
    "SELECT '@INTEGRATIONS.FROSTBYTE_RAW_STAGE/intro/order_detail.xlsx' AS STAGE_FILE_PATH, 'order_detail' AS WORKSHEET_NAME, 'ORDER_DETAIL' AS TARGET_TABLE\n",
    "UNION\n",
    "SELECT '@INTEGRATIONS.FROSTBYTE_RAW_STAGE/intro/location.xlsx', 'location', 'LOCATION';"
   ]
  },
  {
   "cell_type": "markdown",
   "id": "07fd7441-1c12-4195-a7cd-f04fcc3e4242",
   "metadata": {
    "collapsed": false,
    "name": "md_function"
   },
   "source": [
    "## Create a function to load Excel worksheet to table\n",
    "\n",
    "Create a reusable function to load an Excel worksheet to a table in Snowflake.\n",
    "\n",
    "Note: Until we can use the `SnowflakeFile` class in Notebooks, we need to temporarily copy the file to a local temp folder and then process from there."
   ]
  },
  {
   "cell_type": "code",
   "execution_count": null,
   "id": "d92d7957-762a-49ae-95e6-8b407ddba0f6",
   "metadata": {
    "collapsed": false,
    "language": "python",
    "name": "py_load_excel_function"
   },
   "outputs": [],
   "source": [
    "import os\n",
    "from openpyxl import load_workbook\n",
    "\n",
    "def load_excel_worksheet_to_table_local(session, stage_file_path, worksheet_name, target_table):\n",
    "  local_directory = \"./\"\n",
    "  file_name = os.path.basename(stage_file_path)\n",
    "\n",
    "  # First copy file from stage to local storage\n",
    "  get_status = session.file.get(stage_file_path, local_directory)\n",
    "\n",
    "  with open(f\"{local_directory}{file_name}\", 'rb') as f:\n",
    "    workbook = load_workbook(f)\n",
    "    sheet = workbook[worksheet_name]\n",
    "    data = sheet.values\n",
    "\n",
    "    # Get the first line in file as a header line\n",
    "    columns = next(data)[0:]\n",
    "    # Create a DataFrame based on the second and subsequent lines of data\n",
    "    df = pd.DataFrame(data, columns=columns)\n",
    " \n",
    "    df2 = session.create_dataframe(df)\n",
    "    df2.write.mode(\"overwrite\").save_as_table(target_table)\n",
    " \n",
    "  return True"
   ]
  },
  {
   "cell_type": "markdown",
   "id": "97c2fc79-50d4-4a81-af5d-5c80d37070ec",
   "metadata": {
    "collapsed": false,
    "name": "md_process_spreadsheets"
   },
   "source": [
    "## Process all Excel worksheets\n",
    "\n",
    "Loop through each Excel worksheet to process and call our `load_excel_worksheet_to_table_local()` function."
   ]
  },
  {
   "cell_type": "code",
   "execution_count": null,
   "id": "4e73f895-6b24-4ce9-b357-7a9a879be1e4",
   "metadata": {
    "language": "python",
    "name": "py_process_spreadsheets"
   },
   "outputs": [],
   "source": [
    "# Process each file from the sql_get_spreadsheets cell above\n",
    "files_to_load = cells.sql_get_spreadsheets.to_pandas()\n",
    "for index, excel_file in files_to_load.iterrows():\n",
    "    logger.info(f\"Processing Excel file {excel_file['STAGE_FILE_PATH']}\")\n",
    "    load_excel_worksheet_to_table_local(session, excel_file['STAGE_FILE_PATH'], excel_file['WORKSHEET_NAME'], excel_file['TARGET_TABLE'])\n",
    "\n",
    "logger.info(\"06_load_excel_files end\")"
   ]
  },
  {
   "cell_type": "markdown",
   "id": "16d6be04-3690-4c5d-91ee-5d0d425355b8",
   "metadata": {
    "collapsed": false,
    "name": "md_debugging"
   },
   "source": [
    "### Debugging"
   ]
  },
  {
   "cell_type": "code",
   "execution_count": null,
   "id": "a878dd75-f426-427f-bbef-e5401097d9d6",
   "metadata": {
    "language": "sql",
    "name": "sql_debugging"
   },
   "outputs": [],
   "source": [
    "--DESCRIBE TABLE LOCATION;\n",
    "--SELECT * FROM LOCATION;\n",
    "SHOW TABLES;"
   ]
  }
 ],
 "metadata": {
  "kernelspec": {
   "display_name": "Streamlit Notebook",
   "name": "streamlit"
  }
 },
 "nbformat": 4,
 "nbformat_minor": 5
}
