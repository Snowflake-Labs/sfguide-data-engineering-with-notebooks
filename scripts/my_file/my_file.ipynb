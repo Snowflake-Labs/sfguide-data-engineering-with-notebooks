{
 "metadata": {
  "kernelspec": {
   "display_name": "Streamlit Notebook",
   "name": "streamlit"
  }
 },
 "nbformat_minor": 5,
 "nbformat": 4,
 "cells": [
  {
   "cell_type": "code",
   "id": "3775908f-ca36-4846-8f38-5adca39217f2",
   "metadata": {
    "language": "python",
    "name": "cell1",
    "collapsed": false
   },
   "source": "# Import python packages\nimport pandas as pd\n\n# We can also use Snowpark for our analyses!\nfrom snowflake.snowpark.context import get_active_session\nsession = get_active_session()\n\nsession.use_role(\"DEMO_ROLE\")\nsession.use_warehouse(\"DEMO_WH\")\nsession.use_database('DEMO_DB')\nsession.use_schema('DEV_SCHEMA')\n",
   "execution_count": null,
   "outputs": []
  },
  {
   "cell_type": "code",
   "id": "057ce0e3-52ce-4655-81ff-c3d162814f7a",
   "metadata": {
    "language": "python",
    "name": "cell3"
   },
   "outputs": [],
   "source": "session.sql(\"select current_database()\").collect()",
   "execution_count": null
  },
  {
   "cell_type": "code",
   "id": "d69b055a-280c-4599-8ae9-95cd92d2984a",
   "metadata": {
    "language": "python",
    "name": "cell5"
   },
   "outputs": [],
   "source": "df = session.create_dataframe([(1, 'apple')\n                         ,(2, 'banana')],\n                        schema = ['id', 'fruit_name'])\ndf.show()",
   "execution_count": null
  },
  {
   "cell_type": "code",
   "id": "144efa63-2738-42b9-8acd-ec1b7444401b",
   "metadata": {
    "language": "python",
    "name": "cell2"
   },
   "outputs": [],
   "source": "df.write.mode(\"overwrite\").save_as_table(\"test_tbl\")",
   "execution_count": null
  }
 ]
}